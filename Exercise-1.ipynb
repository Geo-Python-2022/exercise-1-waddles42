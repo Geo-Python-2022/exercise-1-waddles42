{
 "cells": [
  {
   "cell_type": "code",
   "execution_count": 19,
   "id": "205df957-12c7-4069-93fb-d2f6097a03b8",
   "metadata": {},
   "outputs": [],
   "source": [
    "ice_cream_rating = 9\n",
    "sleeping_rating = 10"
   ]
  },
  {
   "cell_type": "code",
   "execution_count": 20,
   "id": "82b4d75b-f9f6-4825-8aa4-016235dda95e",
   "metadata": {},
   "outputs": [
    {
     "name": "stdin",
     "output_type": "stream",
     "text": [
      " Alexandra\n",
      " Nagel\n"
     ]
    },
    {
     "name": "stdout",
     "output_type": "stream",
     "text": [
      "Alexandra Nagel\n"
     ]
    }
   ],
   "source": [
    "first_name = input()\n",
    "last_name = input()\n",
    "my_name = first_name + \" \" + last_name\n",
    "print(my_name)"
   ]
  },
  {
   "cell_type": "code",
   "execution_count": 21,
   "id": "e28adb7c-4d92-4aea-b7b1-888b5cc22928",
   "metadata": {},
   "outputs": [],
   "source": [
    "happiness_rating = (ice_cream_rating + sleeping_rating) / 2"
   ]
  },
  {
   "cell_type": "code",
   "execution_count": 22,
   "id": "f58e1acc-5ae2-4018-afd4-31114cbc2f09",
   "metadata": {},
   "outputs": [
    {
     "name": "stdout",
     "output_type": "stream",
     "text": [
      "<class 'int'> <class 'str'> <class 'float'>\n"
     ]
    }
   ],
   "source": [
    "print(type(ice_cream_rating), type(first_name), type(happiness_rating))"
   ]
  },
  {
   "cell_type": "markdown",
   "id": "9d0086ac-dbe7-4771-9834-4861360876d3",
   "metadata": {},
   "source": [
    "9\n",
    "10\n",
    "Alexandra\n",
    "Nagel"
   ]
  },
  {
   "cell_type": "code",
   "execution_count": 23,
   "id": "294bb400-e985-44e3-87f4-3d22d9fa8ff7",
   "metadata": {},
   "outputs": [
    {
     "name": "stdout",
     "output_type": "stream",
     "text": [
      "My name is Alexandra and I give eating ice cream a score of 9 out of 10!\n"
     ]
    }
   ],
   "source": [
    "print(\"My name is\", first_name, \"and I give eating ice cream a score of\", ice_cream_rating, \"out of 10!\")"
   ]
  },
  {
   "cell_type": "code",
   "execution_count": 24,
   "id": "d866f79f-36b2-4ea8-8b98-b0ccaa55c2aa",
   "metadata": {},
   "outputs": [
    {
     "name": "stdout",
     "output_type": "stream",
     "text": [
      "I am Alexandra Nagel and my sleeping enjoyment rating is 10 / 10!\n"
     ]
    }
   ],
   "source": [
    "print(\"I am\", my_name, \"and my sleeping enjoyment rating is\", sleeping_rating, \"/ 10!\")"
   ]
  },
  {
   "cell_type": "code",
   "execution_count": 25,
   "id": "efe0f5a9-8223-48f1-9532-33ffec6f6193",
   "metadata": {},
   "outputs": [
    {
     "name": "stdout",
     "output_type": "stream",
     "text": [
      "Based on the factors above, my happiness rating is 9.5 out of 10 or 95.0 %!\n"
     ]
    }
   ],
   "source": [
    "print(\"Based on the factors above, my happiness rating is\", happiness_rating, \"out of 10 or\", happiness_rating * 10, \"%!\")"
   ]
  },
  {
   "cell_type": "code",
   "execution_count": null,
   "id": "f5535fd8-159d-4545-99f3-cd1ea51b50b2",
   "metadata": {},
   "outputs": [],
   "source": []
  }
 ],
 "metadata": {
  "kernelspec": {
   "display_name": "Python 3",
   "language": "python",
   "name": "python3"
  },
  "language_info": {
   "codemirror_mode": {
    "name": "ipython",
    "version": 3
   },
   "file_extension": ".py",
   "mimetype": "text/x-python",
   "name": "python",
   "nbconvert_exporter": "python",
   "pygments_lexer": "ipython3",
   "version": "3.8.8"
  }
 },
 "nbformat": 4,
 "nbformat_minor": 5
}
